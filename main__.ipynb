{
 "cells": [
  {
   "cell_type": "code",
   "execution_count": 1,
   "id": "22c10d90-41ff-4be4-b14b-3a89f99e19e8",
   "metadata": {
    "tags": []
   },
   "outputs": [
    {
     "data": {
      "image/png": "[encoded data removed]",
      "text/plain": [
       "<Figure size 720x720 with 1 Axes>"
      ]
     },
     "metadata": {
      "needs_background": "light"
     },
     "output_type": "display_data"
    },
    {
     "name": "stderr",
     "output_type": "stream",
     "text": [
      "C:\\Users\\Amandine\\anaconda3\\lib\\site-packages\\numpy\\core\\fromnumeric.py:3419: RuntimeWarning: Mean of empty slice.\n",
      "  return _methods._mean(a, axis=axis, dtype=dtype,\n",
      "C:\\Users\\Amandine\\anaconda3\\lib\\site-packages\\numpy\\core\\_methods.py:188: RuntimeWarning: invalid value encountered in double_scalars\n",
      "  ret = ret.dtype.type(ret / rcount)\n",
      "C:\\Users\\Amandine\\Documents\\Mobile robotics\\MobileRobotics-Project\\final_Thymio_class.py:82: RuntimeWarning: invalid value encountered in double_scalars\n",
      "  self.xytheta_est[2] = (self.xytheta_est[2] + np.pi) % (2 * np.pi) - np.pi\n",
      "C:\\Users\\Amandine\\Documents\\Mobile robotics\\MobileRobotics-Project\\final_Thymio_class.py:106: RuntimeWarning: invalid value encountered in double_scalars\n",
      "  y[2] = (y[2] + np.pi) % (2 * np.pi) - np.pi\n",
      "C:\\Users\\Amandine\\Documents\\Mobile robotics\\MobileRobotics-Project\\final_Thymio_class.py:118: RuntimeWarning: invalid value encountered in double_scalars\n",
      "  self.xytheta_est[2] = (self.xytheta_est[2] + np.pi) % (2 * np.pi) - np.pi\n"
     ]
    },
    {
     "name": "stdout",
     "output_type": "stream",
     "text": [
      "[-2147483648 -2147483648]\n",
      "-2147483648\n"
     ]
    },
    {
     "ename": "error",
     "evalue": "OpenCV(4.10.0) D:\\a\\opencv-python\\opencv-python\\opencv\\modules\\imgproc\\src\\drawing.cpp:1923: error: (-215:Assertion failed) radius >= 0 && thickness <= MAX_THICKNESS && 0 <= shift && shift <= XY_SHIFT in function 'cv::circle'\n",
     "output_type": "error",
     "traceback": [
      "\u001b[1;31m---------------------------------------------------------------------------\u001b[0m",
      "\u001b[1;31merror\u001b[0m                                     Traceback (most recent call last)",
      "\u001b[1;32m~\\AppData\\Local\\Temp/ipykernel_9492/3631048388.py\u001b[0m in \u001b[0;36m<module>\u001b[1;34m\u001b[0m\n\u001b[0;32m    132\u001b[0m \u001b[1;33m\u001b[0m\u001b[0m\n\u001b[0;32m    133\u001b[0m \u001b[1;31m# Run the main asynchronous function\u001b[0m\u001b[1;33m\u001b[0m\u001b[1;33m\u001b[0m\u001b[0m\n\u001b[1;32m--> 134\u001b[1;33m \u001b[0mclient\u001b[0m\u001b[1;33m.\u001b[0m\u001b[0mrun_async_program\u001b[0m\u001b[1;33m(\u001b[0m\u001b[0mmain\u001b[0m\u001b[1;33m)\u001b[0m\u001b[1;33m\u001b[0m\u001b[1;33m\u001b[0m\u001b[0m\n\u001b[0m\u001b[0;32m    135\u001b[0m \u001b[0mprint\u001b[0m\u001b[1;33m(\u001b[0m\u001b[1;34m\"Mission accomplished\"\u001b[0m\u001b[1;33m)\u001b[0m\u001b[1;33m\u001b[0m\u001b[1;33m\u001b[0m\u001b[0m\n\u001b[0;32m    136\u001b[0m \u001b[0maw\u001b[0m\u001b[1;33m(\u001b[0m\u001b[0mnode\u001b[0m\u001b[1;33m.\u001b[0m\u001b[0mstop\u001b[0m\u001b[1;33m(\u001b[0m\u001b[1;33m)\u001b[0m\u001b[1;33m)\u001b[0m\u001b[1;33m\u001b[0m\u001b[1;33m\u001b[0m\u001b[0m\n",
      "\u001b[1;32m~\\anaconda3\\lib\\site-packages\\tdmclient\\clientasync.py\u001b[0m in \u001b[0;36mrun_async_program\u001b[1;34m(prog)\u001b[0m\n\u001b[0;32m    197\u001b[0m         \u001b[1;32mtry\u001b[0m\u001b[1;33m:\u001b[0m\u001b[1;33m\u001b[0m\u001b[1;33m\u001b[0m\u001b[0m\n\u001b[0;32m    198\u001b[0m             \u001b[1;32mwhile\u001b[0m \u001b[1;32mTrue\u001b[0m\u001b[1;33m:\u001b[0m\u001b[1;33m\u001b[0m\u001b[1;33m\u001b[0m\u001b[0m\n\u001b[1;32m--> 199\u001b[1;33m                 \u001b[0mco\u001b[0m\u001b[1;33m.\u001b[0m\u001b[0msend\u001b[0m\u001b[1;33m(\u001b[0m\u001b[1;32mNone\u001b[0m\u001b[1;33m)\u001b[0m\u001b[1;33m\u001b[0m\u001b[1;33m\u001b[0m\u001b[0m\n\u001b[0m\u001b[0;32m    200\u001b[0m         \u001b[1;32mexcept\u001b[0m \u001b[0mStopIteration\u001b[0m\u001b[1;33m:\u001b[0m\u001b[1;33m\u001b[0m\u001b[1;33m\u001b[0m\u001b[0m\n\u001b[0;32m    201\u001b[0m             \u001b[1;32mpass\u001b[0m\u001b[1;33m\u001b[0m\u001b[1;33m\u001b[0m\u001b[0m\n",
      "\u001b[1;32m~\\AppData\\Local\\Temp/ipykernel_9492/3631048388.py\u001b[0m in \u001b[0;36mmain\u001b[1;34m()\u001b[0m\n\u001b[0;32m    127\u001b[0m                     \u001b[1;32mawait\u001b[0m \u001b[0mnode\u001b[0m\u001b[1;33m.\u001b[0m\u001b[0mset_variables\u001b[0m\u001b[1;33m(\u001b[0m\u001b[0mv_m\u001b[0m\u001b[1;33m)\u001b[0m\u001b[1;33m\u001b[0m\u001b[1;33m\u001b[0m\u001b[0m\n\u001b[0;32m    128\u001b[0m \u001b[1;33m\u001b[0m\u001b[0m\n\u001b[1;32m--> 129\u001b[1;33m                 \u001b[0mdraw_on_image\u001b[0m\u001b[1;33m(\u001b[0m\u001b[0mcam\u001b[0m\u001b[1;33m,\u001b[0m\u001b[0mThymio\u001b[0m\u001b[1;33m,\u001b[0m\u001b[0mpath_img\u001b[0m\u001b[1;33m)\u001b[0m\u001b[1;33m\u001b[0m\u001b[1;33m\u001b[0m\u001b[0m\n\u001b[0m\u001b[0;32m    130\u001b[0m     \u001b[0mcam\u001b[0m\u001b[1;33m.\u001b[0m\u001b[0mcam\u001b[0m\u001b[1;33m.\u001b[0m\u001b[0mrelease\u001b[0m\u001b[1;33m(\u001b[0m\u001b[1;33m)\u001b[0m\u001b[1;33m\u001b[0m\u001b[1;33m\u001b[0m\u001b[0m\n\u001b[0;32m    131\u001b[0m     \u001b[1;31m#cv2.destroyAllWindows()\u001b[0m\u001b[1;33m\u001b[0m\u001b[1;33m\u001b[0m\u001b[0m\n",
      "\u001b[1;32m~\\Documents\\Mobile robotics\\MobileRobotics-Project\\final_camera_class.py\u001b[0m in \u001b[0;36mdraw_on_image\u001b[1;34m(camera, Thymio, path_img)\u001b[0m\n\u001b[0;32m    206\u001b[0m     \u001b[0mprint\u001b[0m\u001b[1;33m(\u001b[0m\u001b[1;33m(\u001b[0m\u001b[0mnp\u001b[0m\u001b[1;33m.\u001b[0m\u001b[0msqrt\u001b[0m\u001b[1;33m(\u001b[0m\u001b[0mThymio\u001b[0m\u001b[1;33m.\u001b[0m\u001b[0mkalman_P\u001b[0m\u001b[1;33m[\u001b[0m\u001b[1;36m2\u001b[0m\u001b[1;33m,\u001b[0m\u001b[1;36m2\u001b[0m\u001b[1;33m]\u001b[0m\u001b[1;33m)\u001b[0m\u001b[1;33m*\u001b[0m\u001b[0mThymio\u001b[0m\u001b[1;33m.\u001b[0m\u001b[0mpixbymm\u001b[0m\u001b[1;33m)\u001b[0m\u001b[1;33m.\u001b[0m\u001b[0mastype\u001b[0m\u001b[1;33m(\u001b[0m\u001b[0mint\u001b[0m\u001b[1;33m)\u001b[0m\u001b[1;33m)\u001b[0m\u001b[1;33m\u001b[0m\u001b[1;33m\u001b[0m\u001b[0m\n\u001b[0;32m    207\u001b[0m \u001b[1;33m\u001b[0m\u001b[0m\n\u001b[1;32m--> 208\u001b[1;33m     \u001b[0mcv2\u001b[0m\u001b[1;33m.\u001b[0m\u001b[0mcircle\u001b[0m\u001b[1;33m(\u001b[0m\u001b[0mimage_cnt\u001b[0m\u001b[1;33m,\u001b[0m \u001b[0mThymio\u001b[0m\u001b[1;33m.\u001b[0m\u001b[0mxytheta_est\u001b[0m\u001b[1;33m[\u001b[0m\u001b[1;33m:\u001b[0m\u001b[1;36m2\u001b[0m\u001b[1;33m]\u001b[0m\u001b[1;33m.\u001b[0m\u001b[0mastype\u001b[0m\u001b[1;33m(\u001b[0m\u001b[0mint\u001b[0m\u001b[1;33m)\u001b[0m\u001b[1;33m,\u001b[0m \u001b[1;33m(\u001b[0m\u001b[0mnp\u001b[0m\u001b[1;33m.\u001b[0m\u001b[0msqrt\u001b[0m\u001b[1;33m(\u001b[0m\u001b[0mThymio\u001b[0m\u001b[1;33m.\u001b[0m\u001b[0mkalman_P\u001b[0m\u001b[1;33m[\u001b[0m\u001b[1;36m2\u001b[0m\u001b[1;33m,\u001b[0m\u001b[1;36m2\u001b[0m\u001b[1;33m]\u001b[0m\u001b[1;33m)\u001b[0m\u001b[1;33m*\u001b[0m\u001b[0mThymio\u001b[0m\u001b[1;33m.\u001b[0m\u001b[0mpixbymm\u001b[0m\u001b[1;33m)\u001b[0m\u001b[1;33m.\u001b[0m\u001b[0mastype\u001b[0m\u001b[1;33m(\u001b[0m\u001b[0mint\u001b[0m\u001b[1;33m)\u001b[0m\u001b[1;33m,\u001b[0m \u001b[1;33m(\u001b[0m\u001b[1;36m255\u001b[0m\u001b[1;33m,\u001b[0m \u001b[1;36m153\u001b[0m\u001b[1;33m,\u001b[0m \u001b[1;36m204\u001b[0m\u001b[1;33m)\u001b[0m\u001b[1;33m,\u001b[0m \u001b[1;36m1\u001b[0m\u001b[1;33m)\u001b[0m\u001b[1;33m\u001b[0m\u001b[1;33m\u001b[0m\u001b[0m\n\u001b[0m\u001b[0;32m    209\u001b[0m     \u001b[1;31m#Angle:\u001b[0m\u001b[1;33m\u001b[0m\u001b[1;33m\u001b[0m\u001b[0m\n\u001b[0;32m    210\u001b[0m     \u001b[0mradius\u001b[0m\u001b[1;33m=\u001b[0m\u001b[1;36m1.5\u001b[0m\u001b[1;33m*\u001b[0m\u001b[0mcamera\u001b[0m\u001b[1;33m.\u001b[0m\u001b[0msize_aruco\u001b[0m\u001b[1;33m\u001b[0m\u001b[1;33m\u001b[0m\u001b[0m\n",
      "\u001b[1;31merror\u001b[0m: OpenCV(4.10.0) D:\\a\\opencv-python\\opencv-python\\opencv\\modules\\imgproc\\src\\drawing.cpp:1923: error: (-215:Assertion failed) radius >= 0 && thickness <= MAX_THICKNESS && 0 <= shift && shift <= XY_SHIFT in function 'cv::circle'\n"
     ]
    }
   ],
   "source": [
    "%reload_ext autoreload\n",
    "%autoreload 2\n",
    "\n",
    "import numpy as np\n",
    "import cv2\n",
    "from tdmclient import ClientAsync, aw\n",
    "from final_camera_class import *\n",
    "from final_Thymio_class import *\n",
    "from final_path import *\n",
    "from motion import *\n",
    "\n",
    "###########################################################\n",
    "#Parameters\n",
    "###########################################################\n",
    "camera_index=1 #0 if no webcam\n",
    "corner_aruco_id=[0, 1, 2, 10] #top-left, bottom-left, bottom-right, top-right\n",
    "corner_aruco_size=65 #mm\n",
    "min_size=500 #minimum blob size\n",
    "thresh_obstacle=np.array([[40,20,120,65,50,160]]) #BGR\n",
    "thresh_goal=np.array([40,40,20,60,150,65]) #BGR\n",
    "Thymio_id=9\n",
    "grid_size0=400 #blocks? TBD numbers of blocks or pixels?\n",
    "grid_size1=300 #blocks? TBD numbers of blocks or pixels?\n",
    "ANGLE_THRESHOLD = np.radians(40)   #threshold under which changes of directions are ignored [rad]\n",
    "STEP = 10                           #step (in number of cells) between each cell we study\n",
    "COUNTER_THRESHOLD = 10              #max number of steps between keypoints\n",
    "keypoint_dist_thresh=75 #[mm]\n",
    "SCALING_FACTOR = 500/(200/43)\n",
    "###########################################################\n",
    "#Main Code\n",
    "###########################################################\n",
    "from tdmclient import ClientAsync, aw\n",
    "client = ClientAsync()\n",
    "\n",
    "async def main():\n",
    "    cv2.destroyAllWindows()\n",
    "\n",
    "    node = await client.wait_for_node()\n",
    "    aw(node.lock())\n",
    "\n",
    "    #Camera initialization\n",
    "    cam=camera_class(camera_index,corner_aruco_id,corner_aruco_size,min_size, thresh_obstacle, thresh_goal)\n",
    "\n",
    "    #Thymio initialization\n",
    "    Thymio=Thymio_class(Thymio_id,cam)\n",
    "\n",
    "\n",
    "    Path_planning=True #We want to have the path\n",
    "    step = 0\n",
    "    searching = True\n",
    "    \n",
    "    while True :\n",
    "        step = step + 1\n",
    "        #Update Image\n",
    "        cam.get_image()\n",
    "        cam.correct_perspective_aruco(get_matrix=False)\n",
    "        #Path Planning\n",
    "        if Path_planning:\n",
    "            if Thymio.target_keypoint==None: #only possible at first iteration to not take time later\n",
    "                do_plot=True\n",
    "            grid=discretize_image_eff(cam.thresholded_image,grid_size0, grid_size1)\n",
    "            #Careful! Image frame's first coord (x) is pointing right but in a matrix the first coordinate (rows) is pointing down so they must be inverted\n",
    "            path, _, _ = a_star_search(grid, grid1_coord2grid2_coord(np.array([Thymio.xytheta_est[1],Thymio.xytheta_est[0]]),cam.persp_image,grid), grid1_coord2grid2_coord(np.array([cam.goal_center[1],cam.goal_center[0]]),cam.persp_image,grid),do_plot)\n",
    "\n",
    "            # Convert path coordinates for plotting\n",
    "            path_img = grid1_coord2grid2_coord(path, grid, cam.persp_image)\n",
    "            path_img = path_img[::-1]\n",
    "            \n",
    "            Thymio.keypoints=find_keypoints(path_img,ANGLE_THRESHOLD,STEP,COUNTER_THRESHOLD)\n",
    "            Thymio.target_keypoint=Thymio.keypoints[0]\n",
    "            Thymio.keypoints=Thymio.keypoints[1:]\n",
    "            \n",
    "            do_plot=False\n",
    "            Path_planning=False\n",
    "\n",
    "        #Thymio Position and motor \n",
    "        Thymio.Thymio_position_aruco(cam.persp_image)\n",
    "        Thymio.delta_time_update()\n",
    "        #TBD await get motor speed something       \n",
    "\n",
    "        #Kalman Filter\n",
    "        v_L=[]\n",
    "        v_R=[]\n",
    "        \n",
    "        \n",
    "        # await node.wait_for_variables({\"prox.horizontal\"})\n",
    "        #     while True:\n",
    "        #         prox_front = node.v.prox.horizontal[2]\n",
    "                \n",
    "        for _ in range(10): #remove some variance\n",
    "            await node.wait_for_variables({\"motor.left.speed\", \"motor.right.speed\"})\n",
    "            v_L.append(node.v.motor.left.speed/SCALING_FACTOR)\n",
    "            v_L.append(node.v.motor.right.speed/SCALING_FACTOR)\n",
    "        v_L=np.mean(v_L)\n",
    "        v_R=np.mean(v_R)\n",
    "\n",
    "        Thymio.kalman_predict_state(v_L,v_R) #Predict\n",
    "        if Thymio.Thymio_detected: #only update if Thymio detected\n",
    "            Thymio.kalman_update_state()\n",
    "\n",
    "        #Obstacle detection\n",
    "        #TBD await get oprox sensor data\n",
    "        obstacle=False #TBD\n",
    "        if obstacle:\n",
    "            Thymio.local_avoidance=True\n",
    "            #TBD Thymio.local avoidance to update target motor speed\n",
    "            #TBD await set speed (thymio.speed)\n",
    "            draw_on_image(cam,Thymio,path_img)\n",
    "            continue\n",
    "        else:\n",
    "            if Thymio.local_avoidance:\n",
    "                Path_planning=True\n",
    "                draw_on_image(cam,Thymio,path_img)\n",
    "                continue\n",
    "        #Target Achieved?\n",
    "            else:\n",
    "                if((step % 5)==0) :\n",
    "                    #Next keypoint and controller:\n",
    "                    #print(\"distance to keypoint: \", distance_to_goal(Thymio.xytheta_meas, Thymio.target_keypoint, cam.pixbymm))\n",
    "                    if(distance_to_goal(Thymio.xytheta_meas, Thymio.target_keypoint, cam.pixbymm)<keypoint_dist_thresh) :\n",
    "                        if(len(Thymio.keypoints)<=1): #Thymio found the goal\n",
    "                            break\n",
    "                        Thymio.keypoints=Thymio.keypoints[1:]\n",
    "                        Thymio.target_keypoint=Thymio.keypoints[0]\n",
    "\n",
    "                    v_m = motion_control(Thymio.xytheta_meas, Thymio.target_keypoint, cam.pixbymm)\n",
    "                    await node.set_variables(v_m)\n",
    "                \n",
    "                draw_on_image(cam,Thymio,path_img)\n",
    "    cam.cam.release()\n",
    "    #cv2.destroyAllWindows()\n",
    "\n",
    "# Run the main asynchronous function\n",
    "client.run_async_program(main)\n",
    "print(\"Mission accomplished\")\n",
    "aw(node.stop())\n",
    "aw(node.unlock())"
   ]
  },
  {
   "cell_type": "code",
   "execution_count": null,
   "id": "099d093f-432f-4d02-83dc-8ac6e370fd35",
   "metadata": {},
   "outputs": [],
   "source": [
    "# Stop the program\n",
    "aw(node.stop())\n",
    "aw(node.unlock())"
   ]
  },
  {
   "cell_type": "code",
   "execution_count": null,
   "id": "7692a36a-ab72-4d97-babe-a8ffefb00f5b",
   "metadata": {},
   "outputs": [],
   "source": [
    "cam.cam.release()"
   ]
  },
  {
   "cell_type": "code",
   "execution_count": 1,
   "id": "4dd3a041-fd85-4fa9-98f9-79ed3b6b0e8b",
   "metadata": {},
   "outputs": [],
   "source": [
    "from tdmclient import ClientAsync, aw\n",
    "client = ClientAsync()\n",
    "node = await client.wait_for_node()\n",
    "aw(node.lock())\n",
    "\n",
    "# Stop the program\n",
    "aw(node.stop())\n",
    "aw(node.unlock())"
   ]
  },
  {
   "cell_type": "code",
   "execution_count": null,
   "id": "925a9f73-1f3d-4770-b211-2a5660545533",
   "metadata": {},
   "outputs": [],
   "source": []
  }
 ],
 "metadata": {
  "kernelspec": {
   "display_name": "Python 3 (ipykernel)",
   "language": "python",
   "name": "python3"
  },
  "language_info": {
   "codemirror_mode": {
    "name": "ipython",
    "version": 3
   },
   "file_extension": ".py",
   "mimetype": "text/x-python",
   "name": "python",
   "nbconvert_exporter": "python",
   "pygments_lexer": "ipython3",
   "version": "3.9.7"
  }
 },
 "nbformat": 4,
 "nbformat_minor": 5
}
