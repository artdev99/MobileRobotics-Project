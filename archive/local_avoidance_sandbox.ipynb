{
 "cells": [
  {
   "cell_type": "code",
   "execution_count": 25,
   "id": "c0f42623-9b3e-491b-a819-36c9918d0669",
   "metadata": {},
   "outputs": [],
   "source": [
    "from time import sleep\n",
    "from tdmclient import ClientAsync, aw\n",
    "client = ClientAsync()\n"
   ]
  },
  {
   "cell_type": "code",
   "execution_count": 26,
   "id": "61ce1d27-2056-440d-b95e-1f21877b1dec",
   "metadata": {},
   "outputs": [
    {
     "data": {
      "text/plain": [
       "True"
      ]
     },
     "execution_count": 26,
     "metadata": {},
     "output_type": "execute_result"
    }
   ],
   "source": [
    "client.process_waiting_messages()"
   ]
  },
  {
   "cell_type": "code",
   "execution_count": 27,
   "id": "d8036abb-8ea0-4d92-bdae-4dd502748557",
   "metadata": {},
   "outputs": [],
   "source": [
    "node = client.nodes[0]"
   ]
  },
  {
   "cell_type": "code",
   "execution_count": 28,
   "id": "fcf810ab-695e-401e-a2e4-c8f7ed2ac1cb",
   "metadata": {},
   "outputs": [
    {
     "data": {
      "text/plain": [
       "Node 87d48be9-2b09-4962-aab4-b8705c0cc9e7"
      ]
     },
     "execution_count": 28,
     "metadata": {},
     "output_type": "execute_result"
    }
   ],
   "source": [
    "aw(node.lock())"
   ]
  },
  {
   "cell_type": "code",
   "execution_count": 29,
   "id": "6e658fa5-2eb6-4709-a823-569d17f278cb",
   "metadata": {},
   "outputs": [],
   "source": [
    "aw(node.unlock())"
   ]
  },
  {
   "cell_type": "code",
   "execution_count": 30,
   "id": "d8db06d7-d2ed-45f2-8fbe-2b9b2b6b34b4",
   "metadata": {},
   "outputs": [
    {
     "data": {
      "text/plain": [
       "Node 87d48be9-2b09-4962-aab4-b8705c0cc9e7"
      ]
     },
     "execution_count": 30,
     "metadata": {},
     "output_type": "execute_result"
    }
   ],
   "source": [
    "aw(node.lock())"
   ]
  },
  {
   "cell_type": "code",
   "execution_count": 31,
   "id": "3c53f447-6b65-4f23-9d03-8483f0b42f66",
   "metadata": {},
   "outputs": [],
   "source": [
    "aw(node.wait_for_variables())"
   ]
  },
  {
   "cell_type": "code",
   "execution_count": 32,
   "id": "a2909bf3-b0e8-49cb-86ff-2052adb674b6",
   "metadata": {},
   "outputs": [],
   "source": [
    "program = '''\n",
    "        # Turn off LEDs during initialization\n",
    "        call leds.temperature(0, 0)\n",
    "        call leds.prox.h(0, 0, 0, 0, 0, 0, 0, 0)\n",
    "        call leds.prox.v(0, 0)\n",
    "        '''\n",
    "\n",
    "await node.compile(program)\n",
    "await node.run()\n",
    "# camera init, etc..."
   ]
  },
  {
   "cell_type": "code",
   "execution_count": 11,
   "id": "31ab017f-7973-45ac-9f1c-95013c32334a",
   "metadata": {},
   "outputs": [
    {
     "name": "stdout",
     "output_type": "stream",
     "text": [
      "{'_fwversion': [14, 0], '_id': [-28785], '_imot': [0, 0], '_integrator': [0, 0], '_productId': [8], '_vbat': [785, 788], 'acc': [0, 0, 21], 'acc._tap': [0], 'button.backward': [0], 'button.center': [0], 'button.forward': [0], 'button.left': [0], 'button.right': [0], 'buttons._mean': [11219, 9587, 14477, 14372, 15721], 'buttons._noise': [33, 18, 33, 30, 32], 'buttons._raw': [11226, 9588, 14476, 14369, 15725], 'event.args': [0, 0, 0, 0, 0, 0, 0, 0, 0, 0, 0, 0, 0, 0, 0, 0, 0, 0, 0, 0, 0, 0, 0, 0, 0, 0, 0, 0, 0, 0, 0, 0], 'event.source': [-28785], 'leds.bottom.left': [0, 0, 0], 'leds.bottom.right': [0, 0, 0], 'leds.circle': [0, 0, 0, 0, 0, 0, 0, 0], 'leds.top': [0, 0, 0], 'mic._mean': [255], 'mic.intensity': [3], 'mic.threshold': [0], 'motor.left.pwm': [0], 'motor.left.speed': [0], 'motor.left.target': [0], 'motor.right.pwm': [0], 'motor.right.speed': [0], 'motor.right.target': [0], 'prox.comm.rx': [0], 'prox.comm.rx._intensities': [0, 0, 0, 0, 0, 0, 0], 'prox.comm.rx._payloads': [0, 0, 0, 0, 0, 0, 0], 'prox.comm.tx': [0], 'prox.ground.ambiant': [2, 2], 'prox.ground.delta': [1014, 1020], 'prox.ground.reflected': [836, 918], 'prox.horizontal': [0, 0, 0, 0, 0, 2345, 4500], 'rc5.address': [0], 'rc5.command': [0], 'sd.present': [0], 'temperature': [240], 'timer.period': [100, 0]}\n"
     ]
    }
   ],
   "source": [
    "print(node.var)"
   ]
  },
  {
   "cell_type": "code",
   "execution_count": 12,
   "id": "909c861f-c255-4665-bb42-43b8a6e86160",
   "metadata": {},
   "outputs": [
    {
     "name": "stdout",
     "output_type": "stream",
     "text": [
      "{'node_id': b'\\x87\\xd4\\x8b\\xe9+\\tIb\\xaa\\xb4\\xb8p\\\\\\x0c\\xc9\\xe7', 'node_id_str': '87d48be9-2b09-4962-aab4-b8705c0cc9e7', 'group_id': b'\\xba\\xa9\\xdf\\xae#+E\\x8d\\x9d\\x0f\\xd4BY\\x01/\\x10', 'group_id_str': 'baa9dfae-232b-458d-9d0f-d44259012f10', 'status': 4, 'type': 1, 'name': 'Super Thymio 474', 'capabilities': 3, 'fw_version': '14'}\n"
     ]
    }
   ],
   "source": [
    "print(node.props)"
   ]
  },
  {
   "cell_type": "code",
   "execution_count": 13,
   "id": "7258550d-0e72-4dc6-980e-7781f3562cf8",
   "metadata": {},
   "outputs": [
    {
     "name": "stdout",
     "output_type": "stream",
     "text": [
      "{'on_variables_changed': {<function ClientAsyncCacheNode.__init__.<locals>.on_variables_changed at 0x00000144DCEF58A0>}, 'on_events_received': set(), 'on_event_received': set(), 'on_vm_state_changed': set(), 'thymio': <tdmclient.clientasync.ClientAsync object at 0x00000144DCF34710>, 'props': {'node_id': b'\\x87\\xd4\\x8b\\xe9+\\tIb\\xaa\\xb4\\xb8p\\\\\\x0c\\xc9\\xe7', 'node_id_str': '87d48be9-2b09-4962-aab4-b8705c0cc9e7', 'group_id': b'\\xba\\xa9\\xdf\\xae#+E\\x8d\\x9d\\x0f\\xd4BY\\x01/\\x10', 'group_id_str': 'baa9dfae-232b-458d-9d0f-d44259012f10', 'status': 4, 'type': 1, 'name': 'Super Thymio 474', 'capabilities': 3, 'fw_version': '14'}, 'id': b'\\x87\\xd4\\x8b\\xe9+\\tIb\\xaa\\xb4\\xb8p\\\\\\x0c\\xc9\\xe7', 'id_str': '87d48be9-2b09-4962-aab4-b8705c0cc9e7', 'status': 4, 'vm_description': {'node_id': b'\\x87\\xd4\\x8b\\xe9+\\tIb\\xaa\\xb4\\xb8p\\\\\\x0c\\xc9\\xe7', 'node_id_str': '87d48be9-2b09-4962-aab4-b8705c0cc9e7', 'bytecode_size': 1534, 'data_size': 640, 'stack_size': 32, 'variables': {'_id': None, 'event.source': None, 'event.args': 32, '_fwversion': 2, '_productId': None, 'buttons._raw': 5, 'button.backward': None, 'button.left': None, 'button.center': None, 'button.forward': None, 'button.right': None, 'buttons._mean': 5, 'buttons._noise': 5, 'prox.horizontal': 7, 'prox.comm.rx._payloads': 7, 'prox.comm.rx._intensities': 7, 'prox.comm.rx': None, 'prox.comm.tx': None, 'prox.ground.ambiant': 2, 'prox.ground.reflected': 2, 'prox.ground.delta': 2, 'motor.left.target': None, 'motor.right.target': None, '_vbat': 2, '_imot': 2, 'motor.left.speed': None, 'motor.right.speed': None, 'motor.left.pwm': None, 'motor.right.pwm': None, '_integrator': 2, 'acc': 3, 'leds.top': 3, 'leds.bottom.left': 3, 'leds.bottom.right': 3, 'leds.circle': 8, 'temperature': None, 'rc5.address': None, 'rc5.command': None, 'mic.intensity': None, 'mic.threshold': None, 'mic._mean': None, 'timer.period': 2, 'acc._tap': None, 'sd.present': None}, 'events': ['button.backward', 'button.left', 'button.center', 'button.forward', 'button.right', 'buttons', 'prox', 'prox.comm', 'tap', 'acc', 'mic', 'sound.finished', 'temperature', 'rc5', 'motor', 'timer0', 'timer1'], 'functions': {'_system.reboot': [], '_system.settings.read': [1, 1], '_system.settings.write': [1, 1], '_system.settings.flash': [], 'math.copy': [-1, -1], 'math.fill': [-1, 1], 'math.addscalar': [-1, -1, 1], 'math.add': [-1, -1, -1], 'math.sub': [-1, -1, -1], 'math.mul': [-1, -1, -1], 'math.div': [-1, -1, -1], 'math.min': [-1, -1, -1], 'math.max': [-1, -1, -1], 'math.clamp': [-1, -1, -1, -1], 'math.dot': [1, -1, -1, 1], 'math.stat': [-1, 1, 1, 1], 'math.argbounds': [-1, 1, 1], 'math.sort': [-1], 'math.muldiv': [-1, -1, -1, -1], 'math.atan2': [-1, -1, -1], 'math.sin': [-1, -1], 'math.cos': [-1, -1], 'math.rot2': [2, 2, 1], 'math.sqrt': [-1, -1], 'math.rand': [-1], 'deque.size': [-1, 1], 'deque.get': [-1, -2, 1], 'deque.set': [-1, -2, 1], 'deque.insert': [-1, -2, 1], 'deque.erase': [-1, 1, 1], 'deque.push_front': [-1, -2], 'deque.push_back': [-1, -2], 'deque.pop_front': [-1, -2], 'deque.pop_back': [-1, -2], '_leds.set': [1, 1], 'sound.record': [1], 'sound.play': [1], 'sound.replay': [1], 'sound.system': [1], 'leds.circle': [1, 1, 1, 1, 1, 1, 1, 1], 'leds.top': [1, 1, 1], 'leds.bottom.left': [1, 1, 1], 'leds.bottom.right': [1, 1, 1], 'sound.freq': [1, 1], 'leds.buttons': [1, 1, 1, 1], 'leds.prox.h': [1, 1, 1, 1, 1, 1, 1, 1], 'leds.prox.v': [1, 1], 'leds.rc': [1], 'leds.sound': [1], 'leds.temperature': [1, 1], 'sound.wave': [142], 'prox.comm.enable': [1], 'sd.open': [1, 1], 'sd.write': [-1, 1], 'sd.read': [-1, 1], 'sd.seek': [1, 1], '_rf.nodeid': [1], '_rf.setup': [1, 1], 'sound.duration': [1, 1], '_poweroff': []}}, 'watch_flags': 1, 'var': {'_fwversion': [14, 0], '_id': [-28785], '_imot': [0, 0], '_integrator': [0, 0], '_productId': [8], '_vbat': [785, 788], 'acc': [0, 0, 21], 'acc._tap': [0], 'button.backward': [0], 'button.center': [0], 'button.forward': [0], 'button.left': [0], 'button.right': [0], 'buttons._mean': [11219, 9587, 14477, 14372, 15721], 'buttons._noise': [33, 18, 33, 30, 32], 'buttons._raw': [11226, 9588, 14476, 14369, 15725], 'event.args': [0, 0, 0, 0, 0, 0, 0, 0, 0, 0, 0, 0, 0, 0, 0, 0, 0, 0, 0, 0, 0, 0, 0, 0, 0, 0, 0, 0, 0, 0, 0, 0], 'event.source': [-28785], 'leds.bottom.left': [0, 0, 0], 'leds.bottom.right': [0, 0, 0], 'leds.circle': [0, 0, 0, 0, 0, 0, 0, 0], 'leds.top': [0, 0, 0], 'mic._mean': [255], 'mic.intensity': [3], 'mic.threshold': [0], 'motor.left.pwm': [0], 'motor.left.speed': [0], 'motor.left.target': [0], 'motor.right.pwm': [0], 'motor.right.speed': [0], 'motor.right.target': [0], 'prox.comm.rx': [0], 'prox.comm.rx._intensities': [0, 0, 0, 0, 0, 0, 0], 'prox.comm.rx._payloads': [0, 0, 0, 0, 0, 0, 0], 'prox.comm.tx': [0], 'prox.ground.ambiant': [2, 2], 'prox.ground.delta': [1014, 1020], 'prox.ground.reflected': [836, 918], 'prox.horizontal': [0, 0, 0, 0, 0, 2345, 4500], 'rc5.address': [0], 'rc5.command': [0], 'sd.present': [0], 'temperature': [240], 'timer.period': [100, 0]}, 'var_to_send': {}, 'v': <tdmclient.clientasynccachenode.VarPrefix object at 0x00000144DCF775C0>}\n"
     ]
    }
   ],
   "source": [
    "print(vars(node))"
   ]
  },
  {
   "cell_type": "code",
   "execution_count": 14,
   "id": "3b39d1f8-e428-4565-9fec-a49d333c702b",
   "metadata": {},
   "outputs": [
    {
     "name": "stdout",
     "output_type": "stream",
     "text": [
      "['__class__', '__contains__', '__delattr__', '__dict__', '__dir__', '__doc__', '__enter__', '__eq__', '__exit__', '__format__', '__ge__', '__getattribute__', '__getitem__', '__getstate__', '__gt__', '__hash__', '__init__', '__init_subclass__', '__le__', '__lt__', '__module__', '__ne__', '__new__', '__reduce__', '__reduce_ex__', '__repr__', '__setattr__', '__setitem__', '__sizeof__', '__str__', '__subclasshook__', '__weakref__', 'add_event_received_listener', 'add_events_received_listener', 'add_variables_changed_listener', 'add_vm_state_changed_listener', 'clear_event_received_listeners', 'clear_events_received_listeners', 'clear_variables_changed_listeners', 'clear_vm_state_changed_listener', 'compile', 'create_msg_lock_node', 'create_msg_program', 'create_msg_register_events', 'create_msg_rename_node', 'create_msg_request_vm_description', 'create_msg_scratchpad_update', 'create_msg_send_events', 'create_msg_set_variables', 'create_msg_set_vm_execution_state', 'create_msg_unlock_node', 'create_msg_watch_node', 'event_description', 'filter_out_vm_events', 'flash', 'flush', 'function_description', 'get_vm_description', 'id', 'id_str', 'lock', 'lock_node', 'mark_change', 'notify_events_received', 'notify_variables_changed', 'notify_vm_state_changed', 'on_event_received', 'on_events_received', 'on_variables_changed', 'on_vm_state_changed', 'props', 'register_events', 'remove_event_received_listener', 'remove_events_received_listener', 'remove_variables_changed_listener', 'remove_vm_state_changed_listener', 'rename', 'run', 'send_events', 'send_lock_node', 'send_program', 'send_register_events', 'send_rename_node', 'send_request_vm_description', 'send_send_events', 'send_set_scratchpad', 'send_set_variables', 'send_unlock_node', 'set_properties', 'set_scratchpad', 'set_variables', 'set_vm_execution_state', 'status', 'stop', 'thymio', 'unlock', 'unwatch', 'v', 'var', 'var_description', 'var_to_send', 'vm_description', 'wait_for_variables', 'watch', 'watch_flags', 'watch_node']\n"
     ]
    }
   ],
   "source": [
    "print(dir(node))"
   ]
  },
  {
   "cell_type": "code",
   "execution_count": 33,
   "id": "91768efb-c4ad-43e8-b73a-8acb480bba0b",
   "metadata": {},
   "outputs": [],
   "source": [
    "async def set_motors(speed_left, speed_right):\n",
    "    speeds = {\n",
    "        \"motor.left.target\": [speed_left],\n",
    "        \"motor.right.target\": [speed_right],\n",
    "    }\n",
    "    await node.set_variables(speeds)\n",
    "\n",
    "async def get_prox():\n",
    "    await node.wait_for_variables({\"prox.horizontal\"})\n",
    "    await client.sleep(0.05)\n",
    "    return list(node.v.prox.horizontal)\n",
    "\n"
   ]
  },
  {
   "cell_type": "code",
   "execution_count": 34,
   "id": "ad1a1784-b20c-4f2f-8727-7636c253af8a",
   "metadata": {},
   "outputs": [],
   "source": [
    "await set_motors(50,50)"
   ]
  },
  {
   "cell_type": "code",
   "execution_count": 35,
   "id": "d2832f8d-843b-4315-b49d-b08f6192d3a7",
   "metadata": {},
   "outputs": [],
   "source": [
    "await set_motors(0,0)"
   ]
  },
  {
   "cell_type": "code",
   "execution_count": 1,
   "id": "080dc6d5-e5ea-40b3-aea4-c8fbb58b1050",
   "metadata": {},
   "outputs": [
    {
     "ename": "SyntaxError",
     "evalue": "invalid syntax (1822387724.py, line 99)",
     "output_type": "error",
     "traceback": [
      "\u001b[1;36m  Cell \u001b[1;32mIn[1], line 99\u001b[1;36m\u001b[0m\n\u001b[1;33m    elif !avoiding_left and !avoiding_right:\u001b[0m\n\u001b[1;37m         ^\u001b[0m\n\u001b[1;31mSyntaxError\u001b[0m\u001b[1;31m:\u001b[0m invalid syntax\n"
     ]
    }
   ],
   "source": [
    "import time\n",
    "\n",
    "PROX_FARLEFT = 0\n",
    "PROX_LEFT = 1\n",
    "PROX_FRONT = 2\n",
    "PROX_RIGHT = 3\n",
    "PROX_FARRIGHT = 4\n",
    "\n",
    "DETECTION_THRESHOLD = 2000\n",
    "T_TURN = 0.5\n",
    "T_DRIVE = 4.5\n",
    "TURN_RATION = 5\n",
    "\n",
    "avoiding_left = False\n",
    "avoiding_right = False\n",
    "avoiding_stage = 0\n",
    "speed = 100\n",
    "start_time = 0\n",
    "current_time = 0\n",
    "\n",
    "while True:\n",
    "    prox_values = await get_prox()\n",
    "    prox_farleft = prox_values[PROX_FARLEFT]\n",
    "    prox_left = prox_values[PROX_LEFT]\n",
    "    prox_front = prox_values[PROX_FRONT]\n",
    "    prox_right = prox_values[PROX_RIGHT]\n",
    "    prox_farright = prox_values[PROX_FARRIGHT]\n",
    "\n",
    "    current_time = time.time()\n",
    "    \n",
    "    if avoiding_left or avoiding_right:\n",
    "        if avoiding_left:\n",
    "            if avoiding_stage == 1:\n",
    "                await set_motors(speed, -speed)\n",
    "                if current_time - start_time > T_TURN:\n",
    "                    avoiding_stage = 2\n",
    "                    start_time = time.time()\n",
    "                    await set_motors(0, 0)\n",
    "            if avoiding_stage == 2:\n",
    "                await set_motors(speed, speed)\n",
    "                if current_time - start_time > T_DRIVE: \n",
    "                    avoiding_stage = 3\n",
    "                    start_time = time.time()\n",
    "                    await set_motors(0, 0)\n",
    "\n",
    "            if avoiding_stage == 3:\n",
    "                await set_motors(-speed, speed)\n",
    "                if current_time - start_time > TURN_RATION*T_TURN:\n",
    "                    avoiding_stage = 4\n",
    "                    start_time = time.time()\n",
    "                    await set_motors(0,0)\n",
    "\n",
    "            if avoiding_stage == 4:\n",
    "                await set_motors(speed, speed)\n",
    "                if current_time - start_time > T_DRIVE:\n",
    "                    avoiding_stage = 0\n",
    "                    avoiding_left = False\n",
    "                    start_time = 0\n",
    "                    await set_motors(0,0)\n",
    "        else:\n",
    "            if avoiding_stage == 1:\n",
    "                await set_motors(-speed, speed)\n",
    "                if current_time - start_time > T_TURN:\n",
    "                    avoiding_stage = 2\n",
    "                    start_time = time.time()\n",
    "                    await set_motors(0, 0)\n",
    "            if avoiding_stage == 2:\n",
    "                await set_motors(speed, speed)\n",
    "                if current_time - start_time > T_DRIVE: \n",
    "                    avoiding_stage = 3\n",
    "                    start_time = time.time()\n",
    "                    await set_motors(0, 0)\n",
    "\n",
    "            if avoiding_stage == 3:\n",
    "                await set_motors(speed, -speed)\n",
    "                if current_time - start_time > TURN_RATION*T_TURN:\n",
    "                    avoiding_stage = 4\n",
    "                    start_time = time.time()\n",
    "                    await set_motors(0,0)\n",
    "\n",
    "            if avoiding_stage == 4:\n",
    "                await set_motors(speed, speed)\n",
    "                if current_time - start_time > T_DRIVE:\n",
    "                    avoiding_stage = 0\n",
    "                    avoiding_right = False\n",
    "                    start_time = 0\n",
    "                    await set_motors(0,0)\n",
    "            \n",
    "    \n",
    "    if prox_farleft + prox_left + prox_front + prox_right + prox_farright > DETECTION_THRESHOLD:\n",
    "        if prox_farleft + prox_left + prox_front >= prox_farright + prox_right + prox_front:\n",
    "            avoiding_left = True\n",
    "            avoiding_stage = 1\n",
    "            start_time = time.time()\n",
    "        else:\n",
    "            avoiding_right = True\n",
    "            avoiding_stage = 1\n",
    "            start_time = time.time()\n",
    "    elif !avoiding_left and !avoiding_right:\n",
    "        await set_motors(0,0)\n",
    "            \n",
    "    "
   ]
  },
  {
   "cell_type": "code",
   "execution_count": null,
   "id": "36b6c730-251b-465c-a1e8-1225f7ff8caf",
   "metadata": {},
   "outputs": [],
   "source": []
  },
  {
   "cell_type": "code",
   "execution_count": null,
   "id": "4eafa5fd-e58a-4916-8906-2750f062fdf8",
   "metadata": {},
   "outputs": [],
   "source": []
  },
  {
   "cell_type": "code",
   "execution_count": null,
   "id": "13940416-9a54-4844-a185-e60fa3f74188",
   "metadata": {},
   "outputs": [],
   "source": []
  },
  {
   "cell_type": "code",
   "execution_count": 2,
   "id": "b248aab4-fd24-4342-8e55-b30a65c0dd3e",
   "metadata": {},
   "outputs": [
    {
     "name": "stdout",
     "output_type": "stream",
     "text": [
      "The autoreload extension is already loaded. To reload it, use:\n",
      "  %reload_ext autoreload\n"
     ]
    }
   ],
   "source": [
    "%load_ext autoreload\n",
    "%autoreload 2"
   ]
  }
 ],
 "metadata": {
  "kernelspec": {
   "display_name": "Python 3 (ipykernel)",
   "language": "python",
   "name": "python3"
  },
  "language_info": {
   "codemirror_mode": {
    "name": "ipython",
    "version": 3
   },
   "file_extension": ".py",
   "mimetype": "text/x-python",
   "name": "python",
   "nbconvert_exporter": "python",
   "pygments_lexer": "ipython3",
   "version": "3.12.7"
  }
 },
 "nbformat": 4,
 "nbformat_minor": 5
}
