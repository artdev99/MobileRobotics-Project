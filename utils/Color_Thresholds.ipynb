{
 "cells": [
  {
   "cell_type": "code",
   "execution_count": 1,
   "id": "8ee5605d-1e7a-4716-9f14-d00f415b455a",
   "metadata": {},
   "outputs": [
    {
     "name": "stdout",
     "output_type": "stream",
     "text": [
      "Resolution is: 640x480\n",
      "FPS is: 0\n"
     ]
    }
   ],
   "source": [
    "import cv2\n",
    "import numpy as np\n",
    "import matplotlib.pyplot as plt\n",
    "import ipywidgets as widgets\n",
    "from ipywidgets import IntSlider, VBox, Output\n",
    "from IPython.display import display\n",
    "import os\n",
    "import sys\n",
    "\n",
    "notebook_dir = os.getcwd()\n",
    "parent_dir = os.path.dirname(notebook_dir)\n",
    "if parent_dir not in sys.path:\n",
    "    sys.path.append(parent_dir)\n",
    "\n",
    "from utils.color_thresholds import get_camera, get_camera_url, load_thresholds\n",
    "from utils.color_thresholds import find_color_thresholds\n",
    "\n",
    "camera_index = 1\n",
    "ip_camera= False\n",
    "if ip_camera:\n",
    "    login= \"thymio\"\n",
    "    password= \"qwertz\"\n",
    "    ip = \"192.168.1.100\"\n",
    "    camera_url = get_camera_url(login=login, password=password, ip=ip)\n",
    "else:\n",
    "    camera_url = None\n",
    "\n",
    "camera = get_camera(camera_url=camera_url, camera_index=camera_index)\n",
    "\n",
    "w = int(camera.get(cv2.CAP_PROP_FRAME_WIDTH))\n",
    "h = int(camera.get(cv2.CAP_PROP_FRAME_HEIGHT))\n",
    "f = int(camera.get(cv2.CAP_PROP_FPS))\n",
    "print(f\"Resolution is: {w}x{h}\")\n",
    "print(f\"FPS is: {f}\") "
   ]
  },
  {
   "cell_type": "code",
   "execution_count": 2,
   "id": "9ab40227-06a2-4412-94b6-addfb71c89cc",
   "metadata": {},
   "outputs": [
    {
     "data": {
      "text/plain": [
       "True"
      ]
     },
     "execution_count": 2,
     "metadata": {},
     "output_type": "execute_result"
    }
   ],
   "source": [
    "width, height = 1920, 1080\n",
    "fps = 30\n",
    "camera.set(cv2.CAP_PROP_FRAME_WIDTH, int(width))\n",
    "camera.set(cv2.CAP_PROP_FRAME_HEIGHT, int(height))\n",
    "camera.set(cv2.CAP_PROP_FPS, fps)"
   ]
  },
  {
   "cell_type": "code",
   "execution_count": 3,
   "id": "9b9c7bbb-573d-434d-bfaa-a426491f6ed5",
   "metadata": {},
   "outputs": [
    {
     "name": "stdout",
     "output_type": "stream",
     "text": [
      "Resolution is: 1920x1080\n",
      "FPS is: 30\n"
     ]
    }
   ],
   "source": [
    "w = int(camera.get(cv2.CAP_PROP_FRAME_WIDTH))\n",
    "h = int(camera.get(cv2.CAP_PROP_FRAME_HEIGHT))\n",
    "f = int(camera.get(cv2.CAP_PROP_FPS))\n",
    "print(f\"Resolution is: {w}x{h}\")\n",
    "print(f\"FPS is: {f}\") "
   ]
  },
  {
   "cell_type": "code",
   "execution_count": 6,
   "id": "5741fb2c-e768-4ae9-aaf5-7acfd9e18b3b",
   "metadata": {},
   "outputs": [
    {
     "data": {
      "application/vnd.jupyter.widget-view+json": {
       "model_id": "e3901d30b17a4a0fa1a911540eacc936",
       "version_major": 2,
       "version_minor": 0
      },
      "text/plain": [
       "VBox(children=(IntSlider(value=0, description='Blue Low', max=255), IntSlider(value=0, description='Green Low'…"
      ]
     },
     "metadata": {},
     "output_type": "display_data"
    },
    {
     "data": {
      "application/vnd.jupyter.widget-view+json": {
       "model_id": "82e44b7ed3f94a49b4ed3d58dbd784c7",
       "version_major": 2,
       "version_minor": 0
      },
      "text/plain": [
       "Output()"
      ]
     },
     "metadata": {},
     "output_type": "display_data"
    }
   ],
   "source": [
    "#camera = get_camera(camera_url)\n",
    "_, bgr_image = camera.read()\n",
    "bl_init, gl_init, rl_init = 0, 0, 0\n",
    "bh_init, gh_init, rh_init = 255, 255, 255\n",
    "find_color_thresholds(bgr_image, bl_init, gl_init, rl_init, bh_init, gh_init, rh_init, \"color_goal.txt\")"
   ]
  },
  {
   "cell_type": "code",
   "execution_count": 11,
   "id": "7bcceb87-9ec2-4ca2-8cd6-f7e133f5a8ac",
   "metadata": {},
   "outputs": [
    {
     "name": "stdout",
     "output_type": "stream",
     "text": [
      "Resolution is: 0x0\n",
      "FPS is: 0\n"
     ]
    }
   ],
   "source": [
    "camera = get_camera(camera_url=camera_url, camera_index=camera_index)\n",
    "\n",
    "w = int(camera.get(cv2.CAP_PROP_FRAME_WIDTH))\n",
    "h = int(camera.get(cv2.CAP_PROP_FRAME_HEIGHT))\n",
    "f = int(camera.get(cv2.CAP_PROP_FPS))\n",
    "print(f\"Resolution is: {w}x{h}\")\n",
    "print(f\"FPS is: {f}\") "
   ]
  },
  {
   "cell_type": "code",
   "execution_count": 10,
   "id": "24f35522-e667-43cd-a8fc-c0a66065b58f",
   "metadata": {},
   "outputs": [
    {
     "ename": "AttributeError",
     "evalue": "'NoneType' object has no attribute 'shape'",
     "output_type": "error",
     "traceback": [
      "\u001b[1;31m---------------------------------------------------------------------------\u001b[0m",
      "\u001b[1;31mAttributeError\u001b[0m                            Traceback (most recent call last)",
      "Cell \u001b[1;32mIn[10], line 6\u001b[0m\n\u001b[0;32m      4\u001b[0m bl_init, gl_init, rl_init \u001b[38;5;241m=\u001b[39m \u001b[38;5;241m0\u001b[39m, \u001b[38;5;241m0\u001b[39m, \u001b[38;5;241m0\u001b[39m\n\u001b[0;32m      5\u001b[0m bh_init, gh_init, rh_init \u001b[38;5;241m=\u001b[39m \u001b[38;5;241m255\u001b[39m, \u001b[38;5;241m255\u001b[39m, \u001b[38;5;241m255\u001b[39m\n\u001b[1;32m----> 6\u001b[0m \u001b[43mfind_color_thresholds\u001b[49m\u001b[43m(\u001b[49m\u001b[43mbgr_image\u001b[49m\u001b[43m,\u001b[49m\u001b[43m \u001b[49m\u001b[43mbl_init\u001b[49m\u001b[43m,\u001b[49m\u001b[43m \u001b[49m\u001b[43mgl_init\u001b[49m\u001b[43m,\u001b[49m\u001b[43m \u001b[49m\u001b[43mrl_init\u001b[49m\u001b[43m,\u001b[49m\u001b[43m \u001b[49m\u001b[43mbh_init\u001b[49m\u001b[43m,\u001b[49m\u001b[43m \u001b[49m\u001b[43mgh_init\u001b[49m\u001b[43m,\u001b[49m\u001b[43m \u001b[49m\u001b[43mrh_init\u001b[49m\u001b[43m,\u001b[49m\u001b[43m \u001b[49m\u001b[38;5;124;43m\"\u001b[39;49m\u001b[38;5;124;43mcolor_goal.txt\u001b[39;49m\u001b[38;5;124;43m\"\u001b[39;49m\u001b[43m)\u001b[49m\n",
      "File \u001b[1;32m~\\Desktop\\EPFL\\MA33\\Robo 4\\Project\\MobileRobotics-Project\\utils\\drawings.py:133\u001b[0m, in \u001b[0;36mfind_color_thresholds\u001b[1;34m(bgr_image, bl_init, gl_init, rl_init, bh_init, gh_init, rh_init, filename)\u001b[0m\n\u001b[0;32m    132\u001b[0m \u001b[38;5;28;01mdef\u001b[39;00m \u001b[38;5;21mfind_color_thresholds\u001b[39m(bgr_image, bl_init, gl_init, rl_init, bh_init, gh_init, rh_init, filename):\n\u001b[1;32m--> 133\u001b[0m     height, width, _ \u001b[38;5;241m=\u001b[39m \u001b[43mbgr_image\u001b[49m\u001b[38;5;241;43m.\u001b[39;49m\u001b[43mshape\u001b[49m\n\u001b[0;32m    135\u001b[0m     B_LOW_slider \u001b[38;5;241m=\u001b[39m IntSlider(value\u001b[38;5;241m=\u001b[39mbl_init, \u001b[38;5;28mmin\u001b[39m\u001b[38;5;241m=\u001b[39m\u001b[38;5;241m0\u001b[39m, \u001b[38;5;28mmax\u001b[39m\u001b[38;5;241m=\u001b[39m\u001b[38;5;241m255\u001b[39m, step\u001b[38;5;241m=\u001b[39m\u001b[38;5;241m1\u001b[39m, description\u001b[38;5;241m=\u001b[39m\u001b[38;5;124m'\u001b[39m\u001b[38;5;124mBlue Low\u001b[39m\u001b[38;5;124m'\u001b[39m)\n\u001b[0;32m    136\u001b[0m     G_LOW_slider \u001b[38;5;241m=\u001b[39m IntSlider(value\u001b[38;5;241m=\u001b[39mgl_init, \u001b[38;5;28mmin\u001b[39m\u001b[38;5;241m=\u001b[39m\u001b[38;5;241m0\u001b[39m, \u001b[38;5;28mmax\u001b[39m\u001b[38;5;241m=\u001b[39m\u001b[38;5;241m255\u001b[39m, step\u001b[38;5;241m=\u001b[39m\u001b[38;5;241m1\u001b[39m, description\u001b[38;5;241m=\u001b[39m\u001b[38;5;124m'\u001b[39m\u001b[38;5;124mGreen Low\u001b[39m\u001b[38;5;124m'\u001b[39m)\n",
      "\u001b[1;31mAttributeError\u001b[0m: 'NoneType' object has no attribute 'shape'"
     ]
    }
   ],
   "source": [
    "camera = get_camera(camera_url=camera_url, camera_index=camera_index)\n",
    "_, bgr_image = camera.read()\n",
    "\n",
    "bl_init, gl_init, rl_init = 0, 0, 0\n",
    "bh_init, gh_init, rh_init = 255, 255, 255\n",
    "find_color_thresholds(bgr_image, bl_init, gl_init, rl_init, bh_init, gh_init, rh_init, \"color_goal.txt\")"
   ]
  },
  {
   "cell_type": "code",
   "execution_count": 4,
   "id": "7d806fbb-b770-493e-9223-76832fed5d82",
   "metadata": {},
   "outputs": [
    {
     "data": {
      "text/plain": [
       "(array([173, 204, 210,  53,  29,  47]), array([ 45,  45,  64, 187, 202, 251]))"
      ]
     },
     "execution_count": 4,
     "metadata": {},
     "output_type": "execute_result"
    }
   ],
   "source": [
    "load_thresholds(\"color_obstacles.txt\"), load_thresholds(\"color_goal.txt\")"
   ]
  },
  {
   "cell_type": "code",
   "execution_count": null,
   "id": "4c232201-45b8-4e67-b889-856f880f4f92",
   "metadata": {},
   "outputs": [],
   "source": []
  }
 ],
 "metadata": {
  "kernelspec": {
   "display_name": "Python 3 (ipykernel)",
   "language": "python",
   "name": "python3"
  },
  "language_info": {
   "codemirror_mode": {
    "name": "ipython",
    "version": 3
   },
   "file_extension": ".py",
   "mimetype": "text/x-python",
   "name": "python",
   "nbconvert_exporter": "python",
   "pygments_lexer": "ipython3",
   "version": "3.12.7"
  }
 },
 "nbformat": 4,
 "nbformat_minor": 5
}
