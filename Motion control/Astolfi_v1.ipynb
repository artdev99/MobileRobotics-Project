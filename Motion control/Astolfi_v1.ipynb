{
 "cells": [
  {
   "cell_type": "code",
   "execution_count": 1,
   "id": "a8828914-7719-48ec-9475-8fc0dc1616ef",
   "metadata": {},
   "outputs": [],
   "source": [
    "from tdmclient import ClientAsync, aw\n",
    "client = ClientAsync()\n",
    "node = await client.wait_for_node()\n",
    "aw(node.lock())"
   ]
  },
  {
   "cell_type": "code",
   "execution_count": 8,
   "id": "18134649-adcc-4420-ab93-3f6427ee0413",
   "metadata": {},
   "outputs": [],
   "source": [
    "import math\n",
    "\n",
    "def motion_control(x,y,theta,x_goal,y_goal) :\n",
    "\n",
    "    R_WHEEL = 4.3 #radius of the wheels\n",
    "    L = 9.2 #wheel axis length\n",
    "    DISTANCE_THRESHOLD = 1 #what is the unity of x and x_goal ?\n",
    "    ANGLE_THRESHOLD = 0.1 #radians\n",
    "    SPEED_LIMIT = 500\n",
    "\n",
    "    def normalize_angle(angle): #restricts angle between -pi and pi\n",
    "        while angle > math.pi:\n",
    "            angle -= 2 * math.pi\n",
    "        while angle < -math.pi:\n",
    "            angle += 2 * math.pi\n",
    "        return angle\n",
    "\n",
    "    def goal_reached(distance_to_goal,delta_angle):\n",
    "        return ((distance_to_goal<DISTANCE_THRESHOLD) and (abs(delta_angle)<DISTANCE_THRESHOLD))\n",
    "\n",
    "    def limit_speed(v):\n",
    "        if(v>SPEED_LIMIT) :\n",
    "            v=SPEED_LIMIT\n",
    "        if(v<-SPEED_LIMIT) :\n",
    "            v=-SPEED_LIMIT\n",
    "        return v\n",
    "    \n",
    "    #To do : Tune k by testing\n",
    "    k_rho = 1.0 # To control linear velocity\n",
    "    k_alpha = 3.0 # To control angular velocity \n",
    "    k_beta = -0.5 # Damping term (to stabilize the robot's orientation when reaching the goal)\n",
    "\n",
    "    delta_x = x_goal - x\n",
    "    delta_y = y_goal - y\n",
    "\n",
    "    distance_to_goal =math.sqrt( (delta_x)**2 + (delta_y)**2 )\n",
    "    delta_angle = normalize_angle(math.atan2(delta_y, delta_x) - theta) #difference between the robot's orientation and the direction of the goal\n",
    "\n",
    "    v = k_rho*distance_to_goal #linear velocity\n",
    "    omega = k_alpha*(delta_angle) - k_beta*(delta_angle+theta) #angular velocity\n",
    "    \n",
    "    #Calculate motor speed\n",
    "    v_ml = (v-omega*L)/R_WHEEL\n",
    "    v_mr = (v+omega*L)/R_WHEEL\n",
    "\n",
    "    if(goal_reached(distance_to_goal,delta_angle)):\n",
    "        v_ml=0\n",
    "        v_mr=0\n",
    "\n",
    "    v_ml = limit_speed(v_ml)\n",
    "    v_mr = limit_speed(v_mr)\n",
    "\n",
    "    v_m = {\n",
    "        \"motor.left.target\": [v_ml],\n",
    "        \"motor.right.target\": [v_mr],\n",
    "    }\n",
    "    \n",
    "    return v_m"
   ]
  },
  {
   "cell_type": "code",
   "execution_count": null,
   "id": "0d06b75a-8aff-48c1-a0d2-5895188e7497",
   "metadata": {},
   "outputs": [],
   "source": [
    "v_m = motion_control(x,y,theta,x_goal,y_goal)\n",
    "await node.set_variables(v_m)"
   ]
  },
  {
   "cell_type": "code",
   "execution_count": null,
   "id": "9a93e8f8-206a-4f04-b2a8-7ea62df4c47f",
   "metadata": {},
   "outputs": [],
   "source": [
    "# Stop the program\n",
    "aw(node.stop())\n",
    "aw(node.unlock())"
   ]
  }
 ],
 "metadata": {
  "kernelspec": {
   "display_name": "Python 3 (ipykernel)",
   "language": "python",
   "name": "python3"
  },
  "language_info": {
   "codemirror_mode": {
    "name": "ipython",
    "version": 3
   },
   "file_extension": ".py",
   "mimetype": "text/x-python",
   "name": "python",
   "nbconvert_exporter": "python",
   "pygments_lexer": "ipython3",
   "version": "3.9.7"
  }
 },
 "nbformat": 4,
 "nbformat_minor": 5
}
