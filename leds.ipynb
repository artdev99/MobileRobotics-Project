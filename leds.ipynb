{
 "cells": [
  {
   "cell_type": "code",
   "execution_count": 1,
   "id": "0ec1d9de-8720-447f-bf62-af97912b5d1a",
   "metadata": {},
   "outputs": [],
   "source": [
    "# Import tdmclient Notebook environment:\n",
    "import tdmclient.notebook\n",
    "await tdmclient.notebook.start()"
   ]
  },
  {
   "cell_type": "code",
   "execution_count": 2,
   "id": "530f1c30-45c6-4445-8f3c-7bcb8aecdae7",
   "metadata": {},
   "outputs": [],
   "source": [
    "%%run_python\n",
    "nf_leds_bottom_left(0,0,0)\n",
    "nf_leds_temperature(0, 0)"
   ]
  },
  {
   "cell_type": "code",
   "execution_count": null,
   "id": "3fa15d8b-3c8a-46bc-b1d6-7b1422ccfe4a",
   "metadata": {},
   "outputs": [],
   "source": []
  }
 ],
 "metadata": {
  "kernelspec": {
   "display_name": "Python 3 (ipykernel)",
   "language": "python",
   "name": "python3"
  },
  "language_info": {
   "codemirror_mode": {
    "name": "ipython",
    "version": 3
   },
   "file_extension": ".py",
   "mimetype": "text/x-python",
   "name": "python",
   "nbconvert_exporter": "python",
   "pygments_lexer": "ipython3",
   "version": "3.9.7"
  }
 },
 "nbformat": 4,
 "nbformat_minor": 5
}
