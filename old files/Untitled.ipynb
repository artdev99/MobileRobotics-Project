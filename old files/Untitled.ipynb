{
 "cells": [
  {
   "cell_type": "code",
   "execution_count": 61,
   "id": "22c10d90-41ff-4be4-b14b-3a89f99e19e8",
   "metadata": {
    "tags": []
   },
   "outputs": [
    {
     "ename": "IndentationError",
     "evalue": "unexpected indent (Temp/ipykernel_21468/1787460846.py, line 117)",
     "output_type": "error",
     "traceback": [
      "\u001b[1;36m  File \u001b[1;32m\"C:\\Users\\Amandine\\AppData\\Local\\Temp/ipykernel_21468/1787460846.py\"\u001b[1;36m, line \u001b[1;32m117\u001b[0m\n\u001b[1;33m    cam.cam.release()\u001b[0m\n\u001b[1;37m    ^\u001b[0m\n\u001b[1;31mIndentationError\u001b[0m\u001b[1;31m:\u001b[0m unexpected indent\n"
     ]
    }
   ],
   "source": [
    "%reload_ext autoreload\n",
    "%autoreload 2\n",
    "\n",
    "import numpy as np\n",
    "import cv2\n",
    "from tdmclient import ClientAsync, aw\n",
    "from final_camera_class import *\n",
    "from final_Thymio_class import *\n",
    "from final_path import *\n",
    "from motion import *\n",
    "\n",
    "###########################################################\n",
    "#Parameters\n",
    "###########################################################\n",
    "camera_index=1 #0 if no webcam\n",
    "corner_aruco_id=[0, 1, 2, 10] #top-left, bottom-left, bottom-right, top-right\n",
    "corner_aruco_size=70 #mm\n",
    "min_size=500 #minimum blob size\n",
    "thresh_obstacle=np.array([[30,20,120,45,40,160]]) #BGR\n",
    "thresh_goal=np.array([25,60,30,45,120,55]) #BGR\n",
    "Thymio_id=9\n",
    "grid_size=300 #blocks? TBD numbers of blocks or pixels?\n",
    "ANGLE_THRESHOLD = np.radians(40)   #threshold under which changes of directions are ignored [rad]\n",
    "STEP = 10                           #step (in number of cells) between each cell we study\n",
    "COUNTER_THRESHOLD = 10              #max number of steps between keypoints\n",
    "keypoint_dist_thresh=1 #pix TBD\n",
    "\n",
    "###########################################################\n",
    "#Main Code\n",
    "###########################################################\n",
    "from tdmclient import ClientAsync, aw\n",
    "client = ClientAsync()\n",
    "node = await client.wait_for_node()\n",
    "aw(node.lock())\n",
    "\n",
    "async def main():\n",
    "    \n",
    "    #Camera initialization\n",
    "    cam=camera_class(camera_index,corner_aruco_id,corner_aruco_size,min_size, thresh_obstacle, thresh_goal)\n",
    "\n",
    "    #Thymio initialization\n",
    "    Thymio=Thymio_class(Thymio_id,cam.persp_image)\n",
    "\n",
    "\n",
    "    Path_planning=True #We want to have the path\n",
    "    step = 0\n",
    "    while True:\n",
    "        step = step + 1\n",
    "        #Update Image\n",
    "        cam.get_image()\n",
    "        cam.correct_perspective_aruco(get_matrix=False)\n",
    "        #Path Planning\n",
    "        if Path_planning:\n",
    "            if Thymio.target_keypoint==None: #only possible at first iteration to not take time later\n",
    "                do_plot=True\n",
    "            grid=discretize_image_eff(cam.thresholded_image,grid_size)\n",
    "            #Careful! Image frame's first coord (x) is pointing right but in a matrix the first coordinate (rows) is pointing down so they must be inverted\n",
    "            path, _, _ = a_star_search(grid, grid1_coord2grid2_coord(np.array([Thymio.xytheta_est[1],Thymio.xytheta_est[0]]),cam.persp_image,grid), grid1_coord2grid2_coord(np.array([cam.goal_center[1],cam.goal_center[0]]),cam.persp_image,grid),do_plot)\n",
    "\n",
    "            # Convert path coordinates for plotting\n",
    "            path_img = grid1_coord2grid2_coord(path, grid, cam.persp_image)\n",
    "            path_img = path_img[::-1]\n",
    "            \n",
    "            keypoints=find_keypoints(path_img,ANGLE_THRESHOLD,STEP,COUNTER_THRESHOLD)\n",
    "            print(f\"65{keypoints}\")\n",
    "            #keypoints=keypoints[np.linalg.norm(keypoints-Thymio.xytheta_est[:2].reshape(2,1),axis=1)<keypoint_dist_thresh,:] #Keep only far keypoints\n",
    "            #print(f\"67{keypoints}\")\n",
    "            #Thymio.target_keypoint=Thymio.keypoints[0,:]\n",
    "            #Thymio.keypoints=keypoints[1:,:]\n",
    "            do_plot=False\n",
    "            Path_planning=False\n",
    "\n",
    "        #Thymio Position and motor \n",
    "        Thymio.Thymio_position_aruco(cam.persp_image)\n",
    "        Thymio.delta_time_update()\n",
    "        #TBD await get motor speed something\n",
    "        if((step % 5)==0) :\n",
    "            x_cm, y_cm, theta_rad, x_goal_cm, y_goal_cm = adjust_units(Thymio.xytheta_meas, Thymio.target_keypoint, cam.pixbymm)\n",
    "            v_m = motion_control(x_cm, y_cm, theta_rad, x_goal_cm, y_goal_cm)\n",
    "            print(\"x_cm = \", x_cm, \" y_cm = \", y_cm)\n",
    "            print (\"v_m = \", v_m)\n",
    "            await node.set_variables(v_m)\n",
    "\n",
    "#         if Thymio.Thymio_detected:\n",
    "#             #TBD Thymio.kalmanfilter_detected don't forget variance of kalman filter in plot!!\n",
    "#             pass\n",
    "#         else:\n",
    "#             #TBD Thymio.kalmanfilter_not_detected\n",
    "#             pass\n",
    "\n",
    "#         #Obstacle detection\n",
    "#         #TBD await get oprox sensor data\n",
    "#         obstacle=False #TBD\n",
    "#         if obstacle:\n",
    "#             Thymio.local_avoidance=True\n",
    "#             #TBD Thymio.local avoidance to update target motor speed\n",
    "#             #TBD await set speed (thymio.speed)\n",
    "#             draw_on_image(cam,Thymio,path_img)\n",
    "#             continue\n",
    "#         else:\n",
    "#             if Thymio.local_avoidance:\n",
    "#                 Path_planning=True\n",
    "#                 draw_on_image(cam,Thymio,path_img)\n",
    "#                 continue\n",
    "#         #Target Achieved?\n",
    "#             else:\n",
    "#                 if np.linalg.norm(Thymio.xytheta_est[:2]-Thymio.target_keypoint)<keypoint_dist_thresh:\n",
    "#                     if Thymio.keypoints.size==0:\n",
    "#                         print(\"Goal Achieved!\")\n",
    "#                         break\n",
    "#                     else: #Update target\n",
    "#                         Thymio.target_keypoint=Thymio.keypoints[0,:]\n",
    "#                         Thymio.keypoints=Thymio.keypoints[1:,:]\n",
    "#                 #Controller:\n",
    "#                 #TBD Thymio.astolfi get speed and set them\n",
    "#                 draw_on_image(cam,Thymio,path_img)\n",
    "    cam.cam.release()\n",
    "    cv2.destroyAllWindows()\n",
    "\n",
    "# Run the main asynchronous function\n",
    "client.run_async_program(main)"
   ]
  },
  {
   "cell_type": "code",
   "execution_count": 60,
   "id": "099d093f-432f-4d02-83dc-8ac6e370fd35",
   "metadata": {},
   "outputs": [],
   "source": [
    "# Stop the program\n",
    "aw(node.stop())\n",
    "aw(node.unlock())"
   ]
  },
  {
   "cell_type": "code",
   "execution_count": 4,
   "id": "7692a36a-ab72-4d97-babe-a8ffefb00f5b",
   "metadata": {},
   "outputs": [
    {
     "ename": "NameError",
     "evalue": "name 'cam' is not defined",
     "output_type": "error",
     "traceback": [
      "\u001b[1;31m---------------------------------------------------------------------------\u001b[0m",
      "\u001b[1;31mNameError\u001b[0m                                 Traceback (most recent call last)",
      "\u001b[1;32m~\\AppData\\Local\\Temp/ipykernel_3868/3806120123.py\u001b[0m in \u001b[0;36m<module>\u001b[1;34m\u001b[0m\n\u001b[1;32m----> 1\u001b[1;33m \u001b[0mcam\u001b[0m\u001b[1;33m.\u001b[0m\u001b[0mcam\u001b[0m\u001b[1;33m.\u001b[0m\u001b[0mrelease\u001b[0m\u001b[1;33m(\u001b[0m\u001b[1;33m)\u001b[0m\u001b[1;33m\u001b[0m\u001b[1;33m\u001b[0m\u001b[0m\n\u001b[0m",
      "\u001b[1;31mNameError\u001b[0m: name 'cam' is not defined"
     ]
    }
   ],
   "source": [
    "cam.cam.release()"
   ]
  },
  {
   "cell_type": "code",
   "execution_count": null,
   "id": "4dd3a041-fd85-4fa9-98f9-79ed3b6b0e8b",
   "metadata": {},
   "outputs": [],
   "source": []
  }
 ],
 "metadata": {
  "kernelspec": {
   "display_name": "Python 3 (ipykernel)",
   "language": "python",
   "name": "python3"
  },
  "language_info": {
   "codemirror_mode": {
    "name": "ipython",
    "version": 3
   },
   "file_extension": ".py",
   "mimetype": "text/x-python",
   "name": "python",
   "nbconvert_exporter": "python",
   "pygments_lexer": "ipython3",
   "version": "3.9.7"
  }
 },
 "nbformat": 4,
 "nbformat_minor": 5
}
