{
 "cells": [
  {
   "cell_type": "code",
   "execution_count": 1,
   "id": "c0f42623-9b3e-491b-a819-36c9918d0669",
   "metadata": {},
   "outputs": [],
   "source": [
    "from time import sleep\n",
    "from tdmclient import ClientAsync, aw\n",
    "client = ClientAsync()\n"
   ]
  },
  {
   "cell_type": "code",
   "execution_count": 2,
   "id": "61ce1d27-2056-440d-b95e-1f21877b1dec",
   "metadata": {},
   "outputs": [
    {
     "data": {
      "text/plain": [
       "True"
      ]
     },
     "execution_count": 2,
     "metadata": {},
     "output_type": "execute_result"
    }
   ],
   "source": [
    "client.process_waiting_messages()"
   ]
  },
  {
   "cell_type": "code",
   "execution_count": 3,
   "id": "d8036abb-8ea0-4d92-bdae-4dd502748557",
   "metadata": {},
   "outputs": [],
   "source": [
    "node = client.nodes[0]"
   ]
  },
  {
   "cell_type": "code",
   "execution_count": 4,
   "id": "fcf810ab-695e-401e-a2e4-c8f7ed2ac1cb",
   "metadata": {},
   "outputs": [
    {
     "data": {
      "text/plain": [
       "Node 87d48be9-2b09-4962-aab4-b8705c0cc9e7"
      ]
     },
     "execution_count": 4,
     "metadata": {},
     "output_type": "execute_result"
    }
   ],
   "source": [
    "aw(node.lock())"
   ]
  },
  {
   "cell_type": "code",
   "execution_count": 5,
   "id": "6e658fa5-2eb6-4709-a823-569d17f278cb",
   "metadata": {},
   "outputs": [],
   "source": [
    "aw(node.unlock())"
   ]
  },
  {
   "cell_type": "code",
   "execution_count": 6,
   "id": "d8db06d7-d2ed-45f2-8fbe-2b9b2b6b34b4",
   "metadata": {},
   "outputs": [
    {
     "data": {
      "text/plain": [
       "Node 87d48be9-2b09-4962-aab4-b8705c0cc9e7"
      ]
     },
     "execution_count": 6,
     "metadata": {},
     "output_type": "execute_result"
    }
   ],
   "source": [
    "aw(node.lock())"
   ]
  },
  {
   "cell_type": "code",
   "execution_count": 7,
   "id": "91768efb-c4ad-43e8-b73a-8acb480bba0b",
   "metadata": {},
   "outputs": [],
   "source": [
    "async def set_motors(speed_left, speed_right):\n",
    "    speeds = {\n",
    "        \"motor.left.target\": [speed_left],\n",
    "        \"motor.right.target\": [speed_right],\n",
    "    }\n",
    "    await node.set_variables(speeds)\n",
    "\n",
    "async def get_prox():\n",
    "    await node.wait_for_variables({\"prox.horizontal\"})\n",
    "    await client.sleep(0.05)\n",
    "    return list(node.v.prox.horizontal)\n",
    "\n"
   ]
  },
  {
   "cell_type": "code",
   "execution_count": 11,
   "id": "ad1a1784-b20c-4f2f-8727-7636c253af8a",
   "metadata": {},
   "outputs": [],
   "source": [
    "await set_motors(50,50)"
   ]
  },
  {
   "cell_type": "code",
   "execution_count": 12,
   "id": "d2832f8d-843b-4315-b49d-b08f6192d3a7",
   "metadata": {},
   "outputs": [],
   "source": [
    "await set_motors(0,0)"
   ]
  },
  {
   "cell_type": "code",
   "execution_count": 16,
   "id": "080dc6d5-e5ea-40b3-aea4-c8fbb58b1050",
   "metadata": {},
   "outputs": [
    {
     "ename": "CancelledError",
     "evalue": "",
     "output_type": "error",
     "traceback": [
      "\u001b[1;31m---------------------------------------------------------------------------\u001b[0m",
      "\u001b[1;31mCancelledError\u001b[0m                            Traceback (most recent call last)",
      "Cell \u001b[1;32mIn[16], line 22\u001b[0m\n\u001b[0;32m     19\u001b[0m current_time \u001b[38;5;241m=\u001b[39m \u001b[38;5;241m0\u001b[39m\n\u001b[0;32m     21\u001b[0m \u001b[38;5;28;01mwhile\u001b[39;00m \u001b[38;5;28;01mTrue\u001b[39;00m:\n\u001b[1;32m---> 22\u001b[0m     prox_values \u001b[38;5;241m=\u001b[39m \u001b[38;5;28;01mawait\u001b[39;00m get_prox()\n\u001b[0;32m     23\u001b[0m     prox_farleft \u001b[38;5;241m=\u001b[39m prox_values[PROX_FARLEFT]\n\u001b[0;32m     24\u001b[0m     prox_left \u001b[38;5;241m=\u001b[39m prox_values[PROX_LEFT]\n",
      "Cell \u001b[1;32mIn[7], line 10\u001b[0m, in \u001b[0;36mget_prox\u001b[1;34m()\u001b[0m\n\u001b[0;32m      8\u001b[0m \u001b[38;5;28;01masync\u001b[39;00m \u001b[38;5;28;01mdef\u001b[39;00m \u001b[38;5;21mget_prox\u001b[39m():\n\u001b[0;32m      9\u001b[0m     \u001b[38;5;28;01mawait\u001b[39;00m node\u001b[38;5;241m.\u001b[39mwait_for_variables({\u001b[38;5;124m\"\u001b[39m\u001b[38;5;124mprox.horizontal\u001b[39m\u001b[38;5;124m\"\u001b[39m})\n\u001b[1;32m---> 10\u001b[0m     \u001b[38;5;28;01mawait\u001b[39;00m client\u001b[38;5;241m.\u001b[39msleep(\u001b[38;5;241m0.05\u001b[39m)\n\u001b[0;32m     11\u001b[0m     \u001b[38;5;28;01mreturn\u001b[39;00m \u001b[38;5;28mlist\u001b[39m(node\u001b[38;5;241m.\u001b[39mv\u001b[38;5;241m.\u001b[39mprox\u001b[38;5;241m.\u001b[39mhorizontal)\n",
      "File \u001b[1;32m~\\AppData\\Roaming\\Python\\Python312\\site-packages\\tdmclient\\clientasync.py:73\u001b[0m, in \u001b[0;36mClientAsync.sleep\u001b[1;34m(self, duration, wake)\u001b[0m\n\u001b[0;32m     71\u001b[0m \u001b[38;5;28;01mif\u001b[39;00m wake \u001b[38;5;129;01mis\u001b[39;00m \u001b[38;5;129;01mnot\u001b[39;00m \u001b[38;5;28;01mNone\u001b[39;00m \u001b[38;5;129;01mand\u001b[39;00m wake():\n\u001b[0;32m     72\u001b[0m     \u001b[38;5;28;01mbreak\u001b[39;00m\n\u001b[1;32m---> 73\u001b[0m \u001b[38;5;28;01myield\u001b[39;00m\n",
      "\u001b[1;31mCancelledError\u001b[0m: "
     ]
    }
   ],
   "source": [
    "import time\n",
    "\n",
    "PROX_FARLEFT = 0\n",
    "PROX_LEFT = 1\n",
    "PROX_FRONT = 2\n",
    "PROX_RIGHT = 3\n",
    "PROX_FARRIGHT = 4\n",
    "\n",
    "DETECTION_THRESHOLD = 2000\n",
    "T_TURN = 0.5\n",
    "T_DRIVE = 4.5\n",
    "TURN_RATION = 5\n",
    "\n",
    "avoiding_left = False\n",
    "avoiding_right = False\n",
    "avoiding_stage = 0\n",
    "speed = 100\n",
    "start_time = 0\n",
    "current_time = 0\n",
    "\n",
    "while True:\n",
    "    prox_values = await get_prox()\n",
    "    prox_farleft = prox_values[PROX_FARLEFT]\n",
    "    prox_left = prox_values[PROX_LEFT]\n",
    "    prox_front = prox_values[PROX_FRONT]\n",
    "    prox_right = prox_values[PROX_RIGHT]\n",
    "    prox_farright = prox_values[PROX_FARRIGHT]\n",
    "\n",
    "    current_time = time.time()\n",
    "    \n",
    "    if avoiding_left or avoiding_right:\n",
    "        if avoiding_left:\n",
    "            if avoiding_stage == 1:\n",
    "                await set_motors(speed, -speed)\n",
    "                if current_time - start_time > T_TURN:\n",
    "                    avoiding_stage = 2\n",
    "                    start_time = time.time()\n",
    "                    await set_motors(0, 0)\n",
    "            if avoiding_stage == 2:\n",
    "                await set_motors(speed, speed)\n",
    "                if current_time - start_time > T_DRIVE: \n",
    "                    avoiding_stage = 3\n",
    "                    start_time = time.time()\n",
    "                    await set_motors(0, 0)\n",
    "\n",
    "            if avoiding_stage == 3:\n",
    "                await set_motors(-speed, speed)\n",
    "                if current_time - start_time > TURN_RATION*T_TURN:\n",
    "                    avoiding_stage = 4\n",
    "                    start_time = time.time()\n",
    "                    await set_motors(0,0)\n",
    "\n",
    "            if avoiding_stage == 4:\n",
    "                await set_motors(speed, speed)\n",
    "                if current_time - start_time > T_DRIVE:\n",
    "                    avoiding_stage = 0\n",
    "                    avoiding_left = False\n",
    "                    start_time = 0\n",
    "                    await set_motors(0,0)\n",
    "        else:\n",
    "            if avoiding_stage == 1:\n",
    "                await set_motors(-speed, speed)\n",
    "                if current_time - start_time > T_TURN:\n",
    "                    avoiding_stage = 2\n",
    "                    start_time = time.time()\n",
    "                    await set_motors(0, 0)\n",
    "            if avoiding_stage == 2:\n",
    "                await set_motors(speed, speed)\n",
    "                if current_time - start_time > T_DRIVE: \n",
    "                    avoiding_stage = 3\n",
    "                    start_time = time.time()\n",
    "                    await set_motors(0, 0)\n",
    "\n",
    "            if avoiding_stage == 3:\n",
    "                await set_motors(speed, -speed)\n",
    "                if current_time - start_time > TURN_RATION*T_TURN:\n",
    "                    avoiding_stage = 4\n",
    "                    start_time = time.time()\n",
    "                    await set_motors(0,0)\n",
    "\n",
    "            if avoiding_stage == 4:\n",
    "                await set_motors(speed, speed)\n",
    "                if current_time - start_time > T_DRIVE:\n",
    "                    avoiding_stage = 0\n",
    "                    avoiding_right = False\n",
    "                    start_time = 0\n",
    "                    await set_motors(0,0)\n",
    "            \n",
    "    \n",
    "    if prox_farleft + prox_left + prox_front + prox_right + prox_farright > DETECTION_THRESHOLD:\n",
    "        if prox_farleft + prox_left + prox_front >= prox_farright + prox_right + prox_front:\n",
    "            avoiding_left = True\n",
    "            avoiding_stage = 1\n",
    "            start_time = time.time()\n",
    "        else:\n",
    "            avoiding_right = True\n",
    "            avoiding_stage = 1\n",
    "            start_time = time.time()\n",
    "    elif !avoiding_left and !avoiding_right:\n",
    "        await set_motors(0,0)\n",
    "            \n",
    "    "
   ]
  },
  {
   "cell_type": "code",
   "execution_count": null,
   "id": "36b6c730-251b-465c-a1e8-1225f7ff8caf",
   "metadata": {},
   "outputs": [],
   "source": []
  },
  {
   "cell_type": "code",
   "execution_count": null,
   "id": "4eafa5fd-e58a-4916-8906-2750f062fdf8",
   "metadata": {},
   "outputs": [],
   "source": []
  },
  {
   "cell_type": "code",
   "execution_count": null,
   "id": "13940416-9a54-4844-a185-e60fa3f74188",
   "metadata": {},
   "outputs": [],
   "source": []
  },
  {
   "cell_type": "code",
   "execution_count": 2,
   "id": "b248aab4-fd24-4342-8e55-b30a65c0dd3e",
   "metadata": {},
   "outputs": [
    {
     "name": "stdout",
     "output_type": "stream",
     "text": [
      "The autoreload extension is already loaded. To reload it, use:\n",
      "  %reload_ext autoreload\n"
     ]
    }
   ],
   "source": [
    "%load_ext autoreload\n",
    "%autoreload 2"
   ]
  }
 ],
 "metadata": {
  "kernelspec": {
   "display_name": "Python 3 (ipykernel)",
   "language": "python",
   "name": "python3"
  },
  "language_info": {
   "codemirror_mode": {
    "name": "ipython",
    "version": 3
   },
   "file_extension": ".py",
   "mimetype": "text/x-python",
   "name": "python",
   "nbconvert_exporter": "python",
   "pygments_lexer": "ipython3",
   "version": "3.12.7"
  }
 },
 "nbformat": 4,
 "nbformat_minor": 5
}
