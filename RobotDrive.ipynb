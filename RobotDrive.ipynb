{
 "cells": [
  {
   "cell_type": "markdown",
   "id": "53186367-cea1-45e8-b9d5-1710e566be14",
   "metadata": {},
   "source": [
    "```python\n",
    "import tdmclient.notebook\n",
    "await tdmclient.notebook.list()\n",
    "await tdmclient.notebook.start()\n"
   ]
  },
  {
   "cell_type": "markdown",
   "id": "ed37fcd3-3af4-4d8f-8247-6054738762b5",
   "metadata": {},
   "source": [
    "```python\n",
    "%%run_python\n",
    "nf_leds_temperature(0,0)\n",
    "nf_leds_prox_v(0,0)"
   ]
  },
  {
   "cell_type": "code",
   "execution_count": 3,
   "id": "a37b9f99-0968-48ff-9dc4-1a1d3ce5229d",
   "metadata": {},
   "outputs": [
    {
     "name": "stdout",
     "output_type": "stream",
     "text": [
      "Super Thymio 474 Unlocked\n"
     ]
    }
   ],
   "source": [
    "from time import sleep\n",
    "from tdmclient import ClientAsync, aw\n",
    "\n",
    "def get_status(node):\n",
    "    status = node.status\n",
    "    if status == 1:\n",
    "        return \"Connected\"\n",
    "    if status == 2:\n",
    "        return \"Unlocked\"\n",
    "    if status == 3:\n",
    "        return \"Busy\"\n",
    "    if status == 4:\n",
    "        return \"Locked\"\n",
    "    if status == 5:\n",
    "        return \"Disconnected\"\n",
    "    else:\n",
    "        return \"Unknown\"\n",
    "\n",
    "def lock_node(node):\n",
    "    aw(node.lock())\n",
    "    sleep(0.1)\n",
    "    get_status(node)\n",
    "               \n",
    "def unlock_node(node):\n",
    "    aw(node.unlock())\n",
    "    sleep(0.1)\n",
    "    get_status(node)\n",
    "\n",
    "try:\n",
    "    client = ClientAsync()\n",
    "    node = aw(client.wait_for_node())\n",
    "    sleep(0.1)\n",
    "    \n",
    "    if node.status != 2:\n",
    "        print(\"Please unlock the thymio in Aseba Studio or check connection\")\n",
    "    \n",
    "    aw(node.wait_for_variables())\n",
    "    \n",
    "    try:\n",
    "        aw(node.lock())\n",
    "        sleep(0.1)\n",
    "        aw(node.unlock())\n",
    "    except:\n",
    "        print(\"Please unlock Thymio in Aseba Studio\")\n",
    "\n",
    "    sleep(0.1)\n",
    "    print(node.props[\"name\"], get_status(node))\n",
    "except:\n",
    "    print(\"Open Aseba Studio and Unlock Thymio / reconnect Thymio\")"
   ]
  },
  {
   "cell_type": "code",
   "execution_count": 11,
   "id": "e35cdb37-f91b-4b30-ada8-c57ec8599be5",
   "metadata": {},
   "outputs": [],
   "source": [
    "#vars(node)"
   ]
  },
  {
   "cell_type": "code",
   "execution_count": 9,
   "id": "33cac81d-d573-40fe-88e1-3d41d6cb8307",
   "metadata": {},
   "outputs": [],
   "source": [
    "import numpy as np\n",
    "\n",
    "PROX_FARLEFT = 0\n",
    "PROX_LEFT = 1\n",
    "PROX_FRONT = 2\n",
    "PROX_RIGHT = 3\n",
    "PROX_FARRIGHT = 4\n",
    "PROX_BACKLEFT = 5\n",
    "PROX_BACKRIGHT = 6\n",
    "\n",
    "def get_prox(node):\n",
    "    prox_farleft = node.v.prox.horizontal[PROX_FARLEFT]\n",
    "    prox_left = node.v.prox.horizontal[PROX_LEFT]\n",
    "    prox_front = node.v.prox.horizontal[PROX_FRONT]\n",
    "    prox_right = node.v.prox.horizontal[PROX_RIGHT]\n",
    "    prox_farright = node.v.prox.horizontal[PROX_FARRIGHT]\n",
    "    prox_backleft = node.v.prox.horizontal[PROX_BACKLEFT]\n",
    "    prox_backright = node.v.prox.horizontal[PROX_BACKRIGHT]\n",
    "    \n",
    "    # just showing if you need numpy, you could do a straightforward mean without numpy\n",
    "    prox_array = np.array([prox_farleft, prox_left, prox_front, prox_right, prox_farright, prox_backleft, prox_backright]) # (7,)\n",
    "    #print(np.mean(prox_array))\n",
    "    if np.mean(prox_array) != 0:\n",
    "        return True\n",
    "    else:\n",
    "        return False\n",
    "\n",
    "def motors(node, speed_left, speed_right):\n",
    "    node.v.motor.left.target = left\n",
    "    node.v.motor.right.target = right"
   ]
  },
  {
   "cell_type": "code",
   "execution_count": 10,
   "id": "01cebb99-86f8-446f-b9e9-986b884d1b0f",
   "metadata": {},
   "outputs": [
    {
     "name": "stdout",
     "output_type": "stream",
     "text": [
      "Exiting...\n"
     ]
    }
   ],
   "source": [
    "lock_node(node)\n",
    "\n",
    "speed = 100\n",
    "manual_drive = False\n",
    "\n",
    "while True:\n",
    "    if manual_drive:\n",
    "        node.v.leds.top = [32,32,0]\n",
    "        node.v.leds.circle = [0,0,0,0,0,0,0,0]\n",
    "        \n",
    "        if node.v.button.backward == 1:\n",
    "            motors(node,-speed,-speed)\n",
    "            node.v.leds.circle = [0,0,0,0,32,0,0,0]\n",
    "    \n",
    "        if node.v.button.left == 1:\n",
    "            motors(node,-speed,speed)\n",
    "            node.v.leds.circle = [0,0,0,0,0,0,32,0]\n",
    "    \n",
    "    \n",
    "        if node.v.button.right == 1:\n",
    "            motors(node,speed,-speed)\n",
    "            node.v.leds.circle = [0,0,32,0,0,0,0,0]\n",
    "            \n",
    "        if node.v.button.forward == 1:\n",
    "            motors(node,speed,speed)\n",
    "            node.v.leds.circle = [32,0,0,0,0,0,0,0]\n",
    "    else:\n",
    "        node.v.leds.circle = [0,0,0,0,0,0,0,0]\n",
    "        if get_prox(node):\n",
    "            motors(node,0,0)\n",
    "            node.v.leds.top = [32,0,0]\n",
    "            node.flush()\n",
    "        else:\n",
    "            motors(node,speed,speed)\n",
    "            node.v.leds.top = [0,32,0]\n",
    "\n",
    "    if node.v.button.center == 1:\n",
    "        print(\"Exiting...\")\n",
    "        break\n",
    "    node.flush()\n",
    "    #await client.sleep(0.1)\n",
    "\n",
    "unlock_node(node)"
   ]
  },
  {
   "cell_type": "code",
   "execution_count": null,
   "id": "db2150cd-19d7-4285-aedf-04fcf041b8e4",
   "metadata": {},
   "outputs": [],
   "source": []
  }
 ],
 "metadata": {
  "kernelspec": {
   "display_name": "Python 3 (ipykernel)",
   "language": "python",
   "name": "python3"
  },
  "language_info": {
   "codemirror_mode": {
    "name": "ipython",
    "version": 3
   },
   "file_extension": ".py",
   "mimetype": "text/x-python",
   "name": "python",
   "nbconvert_exporter": "python",
   "pygments_lexer": "ipython3",
   "version": "3.12.7"
  }
 },
 "nbformat": 4,
 "nbformat_minor": 5
}
