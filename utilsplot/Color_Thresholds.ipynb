{
 "cells": [
  {
   "cell_type": "code",
   "execution_count": 1,
   "id": "8ee5605d-1e7a-4716-9f14-d00f415b455a",
   "metadata": {},
   "outputs": [
    {
     "name": "stdout",
     "output_type": "stream",
     "text": [
      "Resolution is: 640x480\n",
      "FPS is: 0\n"
     ]
    }
   ],
   "source": [
    "import cv2\n",
    "import numpy as np\n",
    "import matplotlib.pyplot as plt\n",
    "import ipywidgets as widgets\n",
    "from ipywidgets import IntSlider, VBox, Output\n",
    "from IPython.display import display\n",
    "import os\n",
    "import sys\n",
    "\n",
    "notebook_dir = os.getcwd()\n",
    "parent_dir = os.path.dirname(notebook_dir)\n",
    "if parent_dir not in sys.path:\n",
    "    sys.path.append(parent_dir)\n",
    "\n",
    "from utils.color_thresholds import *\n",
    "camera_index = 1\n",
    "ip_camera= False\n",
    "if ip_camera:\n",
    "    login= \"thymio\"\n",
    "    password= \"qwertz\"\n",
    "    ip = \"192.168.1.100\"\n",
    "    camera_url = get_camera_url(login=login, password=password, ip=ip)\n",
    "else:\n",
    "    camera_url = None\n",
    "\n",
    "camera = get_camera(camera_url=camera_url, camera_index=camera_index)\n",
    "\n",
    "w = int(camera.get(cv2.CAP_PROP_FRAME_WIDTH))\n",
    "h = int(camera.get(cv2.CAP_PROP_FRAME_HEIGHT))\n",
    "f = int(camera.get(cv2.CAP_PROP_FPS))\n",
    "print(f\"Resolution is: {w}x{h}\")\n",
    "print(f\"FPS is: {f}\") "
   ]
  },
  {
   "cell_type": "code",
   "execution_count": 2,
   "id": "5741fb2c-e768-4ae9-aaf5-7acfd9e18b3b",
   "metadata": {},
   "outputs": [
    {
     "data": {
      "application/vnd.jupyter.widget-view+json": {
       "model_id": "1cb2b27ebcdf474492ebe7752e531a1e",
       "version_major": 2,
       "version_minor": 0
      },
      "text/plain": [
       "VBox(children=(IntSlider(value=0, description='Blue Low', max=255), IntSlider(value=0, description='Green Low'…"
      ]
     },
     "metadata": {},
     "output_type": "display_data"
    },
    {
     "data": {
      "application/vnd.jupyter.widget-view+json": {
       "model_id": "934e62a8dc034a1992f5fa1ccface166",
       "version_major": 2,
       "version_minor": 0
      },
      "text/plain": [
       "Output()"
      ]
     },
     "metadata": {},
     "output_type": "display_data"
    }
   ],
   "source": [
    "#camera = get_camera(camera_url)\n",
    "_, bgr_image = camera.read()\n",
    "bl_init, gl_init, rl_init = 0, 0, 0\n",
    "bh_init, gh_init, rh_init = 255, 255, 255\n",
    "find_color_thresholds(bgr_image, bl_init, gl_init, rl_init, bh_init, gh_init, rh_init, \"color_obstacles.txt\")"
   ]
  },
  {
   "cell_type": "code",
   "execution_count": 2,
   "id": "24f35522-e667-43cd-a8fc-c0a66065b58f",
   "metadata": {},
   "outputs": [
    {
     "data": {
      "application/vnd.jupyter.widget-view+json": {
       "model_id": "be3798a35c31449aadb05a22e6cbd4db",
       "version_major": 2,
       "version_minor": 0
      },
      "text/plain": [
       "VBox(children=(IntSlider(value=0, description='Blue Low', max=255), IntSlider(value=0, description='Green Low'…"
      ]
     },
     "metadata": {},
     "output_type": "display_data"
    },
    {
     "data": {
      "application/vnd.jupyter.widget-view+json": {
       "model_id": "40895ac3078b45a3901636fa4a0a6994",
       "version_major": 2,
       "version_minor": 0
      },
      "text/plain": [
       "Output()"
      ]
     },
     "metadata": {},
     "output_type": "display_data"
    }
   ],
   "source": [
    "_, bgr_image = camera.read()\n",
    "\n",
    "bl_init, gl_init, rl_init = 0, 0, 0\n",
    "bh_init, gh_init, rh_init = 255, 255, 255\n",
    "find_color_thresholds(bgr_image, bl_init, gl_init, rl_init, bh_init, gh_init, rh_init, \"color_goal.txt\")"
   ]
  },
  {
   "cell_type": "code",
   "execution_count": 4,
   "id": "7d806fbb-b770-493e-9223-76832fed5d82",
   "metadata": {},
   "outputs": [
    {
     "data": {
      "text/plain": [
       "(array([173, 204, 210,  53,  29,  47]), array([ 45,  45,  64, 187, 202, 251]))"
      ]
     },
     "execution_count": 4,
     "metadata": {},
     "output_type": "execute_result"
    }
   ],
   "source": [
    "load_thresholds(\"color_obstacles.txt\"), load_thresholds(\"color_goal.txt\")"
   ]
  },
  {
   "cell_type": "code",
   "execution_count": null,
   "id": "4c232201-45b8-4e67-b889-856f880f4f92",
   "metadata": {},
   "outputs": [],
   "source": []
  }
 ],
 "metadata": {
  "kernelspec": {
   "display_name": "Python 3 (ipykernel)",
   "language": "python",
   "name": "python3"
  },
  "language_info": {
   "codemirror_mode": {
    "name": "ipython",
    "version": 3
   },
   "file_extension": ".py",
   "mimetype": "text/x-python",
   "name": "python",
   "nbconvert_exporter": "python",
   "pygments_lexer": "ipython3",
   "version": "3.9.7"
  }
 },
 "nbformat": 4,
 "nbformat_minor": 5
}
